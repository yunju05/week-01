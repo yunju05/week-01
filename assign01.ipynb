{
  "nbformat": 4,
  "nbformat_minor": 0,
  "metadata": {
    "colab": {
      "provenance": [],
      "authorship_tag": "ABX9TyOUSuN5qr2KoiW4TNsMYIzL",
      "include_colab_link": true
    },
    "kernelspec": {
      "name": "python3",
      "display_name": "Python 3"
    },
    "language_info": {
      "name": "python"
    }
  },
  "cells": [
    {
      "cell_type": "markdown",
      "metadata": {
        "id": "view-in-github",
        "colab_type": "text"
      },
      "source": [
        "<a href=\"https://colab.research.google.com/github/yunju05/week-01/blob/main/assign01.ipynb\" target=\"_parent\"><img src=\"https://colab.research.google.com/assets/colab-badge.svg\" alt=\"Open In Colab\"/></a>"
      ]
    },
    {
      "cell_type": "code",
      "source": [
        "from datetime import datetime\n",
        "import pytz #Import the pytz module for timezone calculations\n",
        "seoul_timezone=pytz.timezone('Asia/Seoul')\n",
        "now_seoul=datetime.now(seoul_timezone)\n",
        "current_time_seoul=now_seoul.strftime('%H:%M:%S')\n",
        "print(\"Current Time in Seoul:\", current_time_seoul)\n",
        "\n",
        "\n"
      ],
      "metadata": {
        "colab": {
          "base_uri": "https://localhost:8080/"
        },
        "id": "q10nSatEH4Kn",
        "outputId": "6a607548-bbac-45ac-c786-e944a798eca4"
      },
      "execution_count": null,
      "outputs": [
        {
          "output_type": "stream",
          "name": "stdout",
          "text": [
            "Current Time in Seoul: 22:09:57\n"
          ]
        }
      ]
    },
    {
      "cell_type": "markdown",
      "source": [],
      "metadata": {
        "id": "Hmya6BAFKwYv"
      }
    },
    {
      "cell_type": "code",
      "source": [],
      "metadata": {
        "id": "YxAus7w7IXj4"
      },
      "execution_count": null,
      "outputs": []
    }
  ]
}